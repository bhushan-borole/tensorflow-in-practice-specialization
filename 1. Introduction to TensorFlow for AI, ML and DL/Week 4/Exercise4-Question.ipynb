{
 "cells": [
  {
   "cell_type": "markdown",
   "metadata": {
    "colab_type": "text",
    "id": "UncprnB0ymAE"
   },
   "source": [
    "Below is code with a link to a happy or sad dataset which contains 80 images, 40 happy and 40 sad. \n",
    "Create a convolutional neural network that trains to 100% accuracy on these images,  which cancels training upon hitting training accuracy of >.999\n",
    "\n",
    "Hint -- it will work best with 3 convolutional layers."
   ]
  },
  {
   "cell_type": "code",
   "execution_count": 1,
   "metadata": {},
   "outputs": [],
   "source": [
    "import tensorflow as tf\n",
    "import os\n",
    "import zipfile\n",
    "from os import path, getcwd, chdir\n",
    "\n",
    "# DO NOT CHANGE THE LINE BELOW. If you are developing in a local\n",
    "# environment, then grab happy-or-sad.zip from the Coursera Jupyter Notebook\n",
    "# and place it inside a local folder and edit the path to that location\n",
    "path = f\"{getcwd()}/../tmp2/happy-or-sad.zip\"\n",
    "\n",
    "zip_ref = zipfile.ZipFile(path, 'r')\n",
    "zip_ref.extractall(\"/tmp/h-or-s\")\n",
    "zip_ref.close()"
   ]
  },
  {
   "cell_type": "code",
   "execution_count": 8,
   "metadata": {},
   "outputs": [],
   "source": [
    "# GRADED FUNCTION: train_happy_sad_model\n",
    "def train_happy_sad_model():\n",
    "    # Please write your code only where you are indicated.\n",
    "    # please do not remove # model fitting inline comments.\n",
    "\n",
    "    DESIRED_ACCURACY = 0.999\n",
    "\n",
    "    class myCallback(tf.keras.callbacks.Callback):\n",
    "        def on_epoch_end(self, epoch, logs={}):\n",
    "          if(logs.get('acc')>0.999):\n",
    "            print(\"\\n 99.9% acc reached\")\n",
    "            self.model.stop_training = True\n",
    "\n",
    "    callbacks = myCallback()\n",
    "    \n",
    "    # This Code Block should Define and Compile the Model. Please assume the images are 150 X 150 in your implementation.\n",
    "    model = tf.keras.models.Sequential([\n",
    "        # Your Code Here\n",
    "        tf.keras.layers.Conv2D(64, (3,3), activation='relu', input_shape=(150,150,3)),\n",
    "        tf.keras.layers.MaxPooling2D(2,2),\n",
    "        tf.keras.layers.Conv2D(32, (3,3), activation='relu'),\n",
    "        tf.keras.layers.MaxPooling2D(2,2),\n",
    "        tf.keras.layers.Conv2D(32, (2,2), activation='relu'),\n",
    "        tf.keras.layers.MaxPooling2D(2,2),\n",
    "        tf.keras.layers.Flatten(),\n",
    "        tf.keras.layers.Dense(512, activation='relu'),\n",
    "        tf.keras.layers.Dense(128, activation='relu'),\n",
    "        tf.keras.layers.Dense(1, activation='sigmoid')\n",
    "    ])\n",
    "\n",
    "    from tensorflow.keras.optimizers import RMSprop\n",
    "\n",
    "    model.compile(\n",
    "        optimizer=RMSprop(),\n",
    "        loss='binary_crossentropy',\n",
    "        metrics=['accuracy']\n",
    "    )\n",
    "        \n",
    "\n",
    "    # This code block should create an instance of an ImageDataGenerator called train_datagen \n",
    "    # And a train_generator by calling train_datagen.flow_from_directory\n",
    "\n",
    "    from tensorflow.keras.preprocessing.image import ImageDataGenerator\n",
    "\n",
    "    train_datagen = ImageDataGenerator(rescale=1./255)\n",
    "\n",
    "    # Please use a target_size of 150 X 150.\n",
    "    train_generator = train_datagen.flow_from_directory(\n",
    "        # Your Code Here\n",
    "        '/tmp/h-or-s',\n",
    "        target_size=(150, 150),\n",
    "        batch_size=32,\n",
    "        class_mode='binary'\n",
    "    )\n",
    "    # Expected output: 'Found 80 images belonging to 2 classes'\n",
    "\n",
    "    # This code block should call model.fit_generator and train for\n",
    "    # a number of epochs.\n",
    "    # model fitting\n",
    "    history = model.fit_generator(\n",
    "          # Your Code Here\n",
    "        train_generator,\n",
    "        epochs=20,\n",
    "        callbacks=[callbacks]\n",
    "    )\n",
    "    # model fitting\n",
    "    return history.history['acc'][-1]"
   ]
  },
  {
   "cell_type": "code",
   "execution_count": 9,
   "metadata": {},
   "outputs": [
    {
     "name": "stdout",
     "output_type": "stream",
     "text": [
      "Found 80 images belonging to 2 classes.\n",
      "Epoch 1/20\n",
      "3/3 [==============================] - 2s 790ms/step - loss: 2.3811 - acc: 0.5500\n",
      "Epoch 2/20\n",
      "3/3 [==============================] - 0s 137ms/step - loss: 0.6747 - acc: 0.5500\n",
      "Epoch 3/20\n",
      "3/3 [==============================] - 0s 132ms/step - loss: 0.6642 - acc: 0.5375\n",
      "Epoch 4/20\n",
      "3/3 [==============================] - 0s 166ms/step - loss: 0.6154 - acc: 0.6750\n",
      "Epoch 5/20\n",
      "3/3 [==============================] - 0s 133ms/step - loss: 0.5683 - acc: 0.6750\n",
      "Epoch 6/20\n",
      "3/3 [==============================] - 0s 160ms/step - loss: 0.4200 - acc: 0.7875\n",
      "Epoch 7/20\n",
      "3/3 [==============================] - 0s 132ms/step - loss: 0.2456 - acc: 0.8250\n",
      "Epoch 8/20\n",
      "3/3 [==============================] - 0s 139ms/step - loss: 0.2252 - acc: 0.9250\n",
      "Epoch 9/20\n",
      "3/3 [==============================] - 0s 162ms/step - loss: 0.1022 - acc: 0.9625\n",
      "Epoch 10/20\n",
      "3/3 [==============================] - 0s 133ms/step - loss: 0.2259 - acc: 0.8125\n",
      "Epoch 11/20\n",
      "3/3 [==============================] - 0s 135ms/step - loss: 0.4314 - acc: 0.8500\n",
      "Epoch 12/20\n",
      "3/3 [==============================] - 0s 160ms/step - loss: 0.1937 - acc: 0.9375\n",
      "Epoch 13/20\n",
      "3/3 [==============================] - 0s 133ms/step - loss: 0.0962 - acc: 0.9500\n",
      "Epoch 14/20\n",
      "3/3 [==============================] - 0s 133ms/step - loss: 0.1337 - acc: 0.9625\n",
      "Epoch 15/20\n",
      "3/3 [==============================] - 0s 137ms/step - loss: 0.0562 - acc: 0.9625\n",
      "Epoch 16/20\n",
      "2/3 [===================>..........] - ETA: 0s - loss: 0.0231 - acc: 1.0000\n",
      " 99.9% acc reached\n",
      "3/3 [==============================] - 0s 161ms/step - loss: 0.0259 - acc: 1.0000\n"
     ]
    },
    {
     "data": {
      "text/plain": [
       "1.0"
      ]
     },
     "execution_count": 9,
     "metadata": {},
     "output_type": "execute_result"
    }
   ],
   "source": [
    "# The Expected output: \"Reached 99.9% accuracy so cancelling training!\"\"\n",
    "train_happy_sad_model()"
   ]
  },
  {
   "cell_type": "code",
   "execution_count": null,
   "metadata": {},
   "outputs": [],
   "source": []
  }
 ],
 "metadata": {
  "coursera": {
   "course_slug": "introduction-tensorflow",
   "graded_item_id": "1kAlw",
   "launcher_item_id": "PNLYD"
  },
  "kernelspec": {
   "display_name": "Python 3",
   "language": "python",
   "name": "python3"
  },
  "language_info": {
   "codemirror_mode": {
    "name": "ipython",
    "version": 3
   },
   "file_extension": ".py",
   "mimetype": "text/x-python",
   "name": "python",
   "nbconvert_exporter": "python",
   "pygments_lexer": "ipython3",
   "version": "3.6.8"
  }
 },
 "nbformat": 4,
 "nbformat_minor": 1
}
